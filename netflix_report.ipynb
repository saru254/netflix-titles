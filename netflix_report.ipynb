{
 "cells": [
  {
   "cell_type": "code",
   "execution_count": 1,
   "metadata": {},
   "outputs": [
    {
     "data": {
      "text/html": [
       "<div>\n",
       "<style scoped>\n",
       "    .dataframe tbody tr th:only-of-type {\n",
       "        vertical-align: middle;\n",
       "    }\n",
       "\n",
       "    .dataframe tbody tr th {\n",
       "        vertical-align: top;\n",
       "    }\n",
       "\n",
       "    .dataframe thead th {\n",
       "        text-align: right;\n",
       "    }\n",
       "</style>\n",
       "<table border=\"1\" class=\"dataframe\">\n",
       "  <thead>\n",
       "    <tr style=\"text-align: right;\">\n",
       "      <th></th>\n",
       "      <th>Start Time</th>\n",
       "      <th>Duration</th>\n",
       "      <th>Title</th>\n",
       "    </tr>\n",
       "  </thead>\n",
       "  <tbody>\n",
       "    <tr>\n",
       "      <th>0</th>\n",
       "      <td>2023-02-17 17:56:27</td>\n",
       "      <td>00:00:11</td>\n",
       "      <td>Season 4 Part 2 Trailer: You</td>\n",
       "    </tr>\n",
       "  </tbody>\n",
       "</table>\n",
       "</div>"
      ],
      "text/plain": [
       "            Start Time  Duration                         Title\n",
       "0  2023-02-17 17:56:27  00:00:11  Season 4 Part 2 Trailer: You"
      ]
     },
     "execution_count": 1,
     "metadata": {},
     "output_type": "execute_result"
    }
   ],
   "source": [
    "#importing pandas\n",
    "import pandas as pd\n",
    "\n",
    "#reading netflix data\n",
    "df = pd.read_csv('ViewingActivity.csv')\n",
    "\n",
    "#knowing numbers of columns and rows created.\n",
    "df.shape\n",
    "\n",
    "#printing the row\n",
    "df.head(1)\n",
    "\n",
    "#dropping unnecessary columns\n",
    "df = df.drop(['Profile Name', 'Attributes', 'Supplemental Video Type', 'Device Type', 'Bookmark', 'Latest Bookmark', 'Country'], axis=1)\n",
    "\n",
    "df.head(1)"
   ]
  },
  {
   "cell_type": "code",
   "execution_count": 2,
   "metadata": {},
   "outputs": [
    {
     "data": {
      "text/plain": [
       "Start Time    object\n",
       "Duration      object\n",
       "Title         object\n",
       "dtype: object"
      ]
     },
     "execution_count": 2,
     "metadata": {},
     "output_type": "execute_result"
    }
   ],
   "source": [
    "# list of the data types for each column\n",
    "df.dtypes"
   ]
  },
  {
   "cell_type": "code",
   "execution_count": 3,
   "metadata": {},
   "outputs": [
    {
     "data": {
      "text/plain": [
       "Start Time    datetime64[ns, UTC]\n",
       "Duration                   object\n",
       "Title                      object\n",
       "dtype: object"
      ]
     },
     "execution_count": 3,
     "metadata": {},
     "output_type": "execute_result"
    }
   ],
   "source": [
    "# converting Start time to datetime\n",
    "#converting start time from utc to local timezone\n",
    "# converting duration to timedelta.\n",
    "\n",
    "df['Start Time'] = pd.to_datetime(df['Start Time'], utc=True)\n",
    "df.dtypes"
   ]
  },
  {
   "cell_type": "code",
   "execution_count": 4,
   "metadata": {},
   "outputs": [
    {
     "data": {
      "text/html": [
       "<div>\n",
       "<style scoped>\n",
       "    .dataframe tbody tr th:only-of-type {\n",
       "        vertical-align: middle;\n",
       "    }\n",
       "\n",
       "    .dataframe tbody tr th {\n",
       "        vertical-align: top;\n",
       "    }\n",
       "\n",
       "    .dataframe thead th {\n",
       "        text-align: right;\n",
       "    }\n",
       "</style>\n",
       "<table border=\"1\" class=\"dataframe\">\n",
       "  <thead>\n",
       "    <tr style=\"text-align: right;\">\n",
       "      <th></th>\n",
       "      <th>Start Time</th>\n",
       "      <th>Duration</th>\n",
       "      <th>Title</th>\n",
       "    </tr>\n",
       "  </thead>\n",
       "  <tbody>\n",
       "    <tr>\n",
       "      <th>0</th>\n",
       "      <td>2023-02-17 12:56:27-05:00</td>\n",
       "      <td>00:00:11</td>\n",
       "      <td>Season 4 Part 2 Trailer: You</td>\n",
       "    </tr>\n",
       "    <tr>\n",
       "      <th>1</th>\n",
       "      <td>2023-02-17 12:46:50-05:00</td>\n",
       "      <td>00:05:52</td>\n",
       "      <td>The Umbrella Academy: Season 2: Right Back Whe...</td>\n",
       "    </tr>\n",
       "    <tr>\n",
       "      <th>2</th>\n",
       "      <td>2023-02-17 12:15:17-05:00</td>\n",
       "      <td>00:03:41</td>\n",
       "      <td>The Umbrella Academy: Season 1: Changes (Episo...</td>\n",
       "    </tr>\n",
       "    <tr>\n",
       "      <th>3</th>\n",
       "      <td>2023-02-17 05:24:39-05:00</td>\n",
       "      <td>00:24:25</td>\n",
       "      <td>The Umbrella Academy: Season 1: Changes (Episo...</td>\n",
       "    </tr>\n",
       "    <tr>\n",
       "      <th>4</th>\n",
       "      <td>2023-02-15 14:10:34-05:00</td>\n",
       "      <td>00:03:59</td>\n",
       "      <td>The Umbrella Academy: Season 1: The Day That W...</td>\n",
       "    </tr>\n",
       "  </tbody>\n",
       "</table>\n",
       "</div>"
      ],
      "text/plain": [
       "                 Start Time  Duration  \\\n",
       "0 2023-02-17 12:56:27-05:00  00:00:11   \n",
       "1 2023-02-17 12:46:50-05:00  00:05:52   \n",
       "2 2023-02-17 12:15:17-05:00  00:03:41   \n",
       "3 2023-02-17 05:24:39-05:00  00:24:25   \n",
       "4 2023-02-15 14:10:34-05:00  00:03:59   \n",
       "\n",
       "                                               Title  \n",
       "0                       Season 4 Part 2 Trailer: You  \n",
       "1  The Umbrella Academy: Season 2: Right Back Whe...  \n",
       "2  The Umbrella Academy: Season 1: Changes (Episo...  \n",
       "3  The Umbrella Academy: Season 1: Changes (Episo...  \n",
       "4  The Umbrella Academy: Season 1: The Day That W...  "
      ]
     },
     "execution_count": 4,
     "metadata": {},
     "output_type": "execute_result"
    }
   ],
   "source": [
    "#change the start time column into the dataframe's index\n",
    "df = df.set_index('Start Time')\n",
    "\n",
    "#convert from utc timezone to eastern time\n",
    "df.index = df.index.tz_convert('US/Eastern')\n",
    "\n",
    "#reset the index so that start time becomes a column again\n",
    "df = df.reset_index()\n",
    "\n",
    "#double- check that it worked\n",
    "df.head()"
   ]
  },
  {
   "cell_type": "code",
   "execution_count": 5,
   "metadata": {},
   "outputs": [
    {
     "data": {
      "text/plain": [
       "Start Time    datetime64[ns, US/Eastern]\n",
       "Duration                  datetime64[ns]\n",
       "Title                             object\n",
       "dtype: object"
      ]
     },
     "execution_count": 5,
     "metadata": {},
     "output_type": "execute_result"
    }
   ],
   "source": [
    "df['Duration'] = pd.to_datetime(df['Duration'])\n",
    "df.dtypes"
   ]
  },
  {
   "cell_type": "code",
   "execution_count": 6,
   "metadata": {},
   "outputs": [],
   "source": [
    "# createa new dataframe called the umbrella academy that takes from df\n",
    "# only the rows in which the title columns contains 'You'\n",
    "import re\n",
    "The_Umbrella_Academy = df[df['Title'].str.contains('The Umbrella Academy', regex=False)]"
   ]
  },
  {
   "cell_type": "code",
   "execution_count": 7,
   "metadata": {},
   "outputs": [
    {
     "data": {
      "text/plain": [
       "(7, 3)"
      ]
     },
     "execution_count": 7,
     "metadata": {},
     "output_type": "execute_result"
    }
   ],
   "source": [
    "# we use the umberalla academy.shape to inspect a random ten rows of our new the umberalla academy dataframe.\n",
    "The_Umbrella_Academy.shape"
   ]
  }
 ],
 "metadata": {
  "kernelspec": {
   "display_name": "Python 3",
   "language": "python",
   "name": "python3"
  },
  "language_info": {
   "codemirror_mode": {
    "name": "ipython",
    "version": 3
   },
   "file_extension": ".py",
   "mimetype": "text/x-python",
   "name": "python",
   "nbconvert_exporter": "python",
   "pygments_lexer": "ipython3",
   "version": "3.11.2"
  },
  "orig_nbformat": 4,
  "vscode": {
   "interpreter": {
    "hash": "1c6cb8f9f17696213f3380dd8ee35a8165774cd29def6fe0813227c007688397"
   }
  }
 },
 "nbformat": 4,
 "nbformat_minor": 2
}
